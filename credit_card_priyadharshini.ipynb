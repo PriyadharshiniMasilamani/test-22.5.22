{
 "cells": [
  {
   "cell_type": "markdown",
   "id": "da914147",
   "metadata": {
    "id": "K1t1UHRd48S_",
    "papermill": {
     "duration": 0.02512,
     "end_time": "2021-08-19T08:41:24.029649",
     "exception": false,
     "start_time": "2021-08-19T08:41:24.004529",
     "status": "completed"
    },
    "tags": []
   },
   "source": [
    "# Import Libraries"
   ]
  },
  {
   "cell_type": "code",
   "execution_count": 1,
   "id": "ede89978",
   "metadata": {
    "execution": {
     "iopub.execute_input": "2021-08-19T08:41:24.086513Z",
     "iopub.status.busy": "2021-08-19T08:41:24.084801Z",
     "iopub.status.idle": "2021-08-19T08:41:25.472985Z",
     "shell.execute_reply": "2021-08-19T08:41:25.472211Z",
     "shell.execute_reply.started": "2021-08-19T08:37:06.790142Z"
    },
    "id": "dbmhbr1N5ib8",
    "papermill": {
     "duration": 1.418391,
     "end_time": "2021-08-19T08:41:25.473181",
     "exception": false,
     "start_time": "2021-08-19T08:41:24.054790",
     "status": "completed"
    },
    "tags": []
   },
   "outputs": [],
   "source": [
    "import numpy as np\n",
    "import pandas as pd\n",
    "import matplotlib.pyplot as plt\n",
    "import seaborn as sns\n",
    "from sklearn.cluster import KMeans\n",
    "from sklearn.preprocessing import StandardScaler, normalize\n",
    "from sklearn.decomposition import PCA\n",
    "from sklearn.metrics import silhouette_score\n",
    "from sklearn.model_selection import train_test_split\n",
    "import warnings\n",
    "warnings.filterwarnings('ignore')"
   ]
  },
  {
   "cell_type": "markdown",
   "id": "38c9dec0",
   "metadata": {
    "id": "4HF-90Nk5BMJ",
    "papermill": {
     "duration": 0.025555,
     "end_time": "2021-08-19T08:41:25.525096",
     "exception": false,
     "start_time": "2021-08-19T08:41:25.499541",
     "status": "completed"
    },
    "tags": []
   },
   "source": [
    "# Load Dataset"
   ]
  },
  {
   "cell_type": "code",
   "execution_count": 2,
   "id": "cdb61057",
   "metadata": {
    "execution": {
     "iopub.execute_input": "2021-08-19T08:41:25.581903Z",
     "iopub.status.busy": "2021-08-19T08:41:25.581212Z",
     "iopub.status.idle": "2021-08-19T08:41:25.671624Z",
     "shell.execute_reply": "2021-08-19T08:41:25.672103Z",
     "shell.execute_reply.started": "2021-08-19T08:37:08.385720Z"
    },
    "id": "5EsnLinCERiY",
    "outputId": "90e8bd33-d49d-49f6-d6fa-a711b5c45355",
    "papermill": {
     "duration": 0.121079,
     "end_time": "2021-08-19T08:41:25.672263",
     "exception": false,
     "start_time": "2021-08-19T08:41:25.551184",
     "status": "completed"
    },
    "tags": []
   },
   "outputs": [
    {
     "data": {
      "text/html": [
       "<div>\n",
       "<style scoped>\n",
       "    .dataframe tbody tr th:only-of-type {\n",
       "        vertical-align: middle;\n",
       "    }\n",
       "\n",
       "    .dataframe tbody tr th {\n",
       "        vertical-align: top;\n",
       "    }\n",
       "\n",
       "    .dataframe thead th {\n",
       "        text-align: right;\n",
       "    }\n",
       "</style>\n",
       "<table border=\"1\" class=\"dataframe\">\n",
       "  <thead>\n",
       "    <tr style=\"text-align: right;\">\n",
       "      <th></th>\n",
       "      <th>CUST_ID</th>\n",
       "      <th>BALANCE</th>\n",
       "      <th>BALANCE_FREQUENCY</th>\n",
       "      <th>PURCHASES</th>\n",
       "      <th>ONEOFF_PURCHASES</th>\n",
       "      <th>INSTALLMENTS_PURCHASES</th>\n",
       "      <th>CASH_ADVANCE</th>\n",
       "      <th>PURCHASES_FREQUENCY</th>\n",
       "      <th>ONEOFF_PURCHASES_FREQUENCY</th>\n",
       "      <th>PURCHASES_INSTALLMENTS_FREQUENCY</th>\n",
       "      <th>CASH_ADVANCE_FREQUENCY</th>\n",
       "      <th>CASH_ADVANCE_TRX</th>\n",
       "      <th>PURCHASES_TRX</th>\n",
       "      <th>CREDIT_LIMIT</th>\n",
       "      <th>PAYMENTS</th>\n",
       "      <th>MINIMUM_PAYMENTS</th>\n",
       "      <th>PRC_FULL_PAYMENT</th>\n",
       "      <th>TENURE</th>\n",
       "    </tr>\n",
       "  </thead>\n",
       "  <tbody>\n",
       "    <tr>\n",
       "      <th>0</th>\n",
       "      <td>C10001</td>\n",
       "      <td>40.900749</td>\n",
       "      <td>0.818182</td>\n",
       "      <td>95.40</td>\n",
       "      <td>0.00</td>\n",
       "      <td>95.40</td>\n",
       "      <td>0.000000</td>\n",
       "      <td>0.166667</td>\n",
       "      <td>0.000000</td>\n",
       "      <td>0.083333</td>\n",
       "      <td>0.000000</td>\n",
       "      <td>0</td>\n",
       "      <td>2</td>\n",
       "      <td>1000.0</td>\n",
       "      <td>201.802084</td>\n",
       "      <td>139.509787</td>\n",
       "      <td>0.000000</td>\n",
       "      <td>12</td>\n",
       "    </tr>\n",
       "    <tr>\n",
       "      <th>1</th>\n",
       "      <td>C10002</td>\n",
       "      <td>3202.467416</td>\n",
       "      <td>0.909091</td>\n",
       "      <td>0.00</td>\n",
       "      <td>0.00</td>\n",
       "      <td>0.00</td>\n",
       "      <td>6442.945483</td>\n",
       "      <td>0.000000</td>\n",
       "      <td>0.000000</td>\n",
       "      <td>0.000000</td>\n",
       "      <td>0.250000</td>\n",
       "      <td>4</td>\n",
       "      <td>0</td>\n",
       "      <td>7000.0</td>\n",
       "      <td>4103.032597</td>\n",
       "      <td>1072.340217</td>\n",
       "      <td>0.222222</td>\n",
       "      <td>12</td>\n",
       "    </tr>\n",
       "    <tr>\n",
       "      <th>2</th>\n",
       "      <td>C10003</td>\n",
       "      <td>2495.148862</td>\n",
       "      <td>1.000000</td>\n",
       "      <td>773.17</td>\n",
       "      <td>773.17</td>\n",
       "      <td>0.00</td>\n",
       "      <td>0.000000</td>\n",
       "      <td>1.000000</td>\n",
       "      <td>1.000000</td>\n",
       "      <td>0.000000</td>\n",
       "      <td>0.000000</td>\n",
       "      <td>0</td>\n",
       "      <td>12</td>\n",
       "      <td>7500.0</td>\n",
       "      <td>622.066742</td>\n",
       "      <td>627.284787</td>\n",
       "      <td>0.000000</td>\n",
       "      <td>12</td>\n",
       "    </tr>\n",
       "    <tr>\n",
       "      <th>3</th>\n",
       "      <td>C10004</td>\n",
       "      <td>1666.670542</td>\n",
       "      <td>0.636364</td>\n",
       "      <td>1499.00</td>\n",
       "      <td>1499.00</td>\n",
       "      <td>0.00</td>\n",
       "      <td>205.788017</td>\n",
       "      <td>0.083333</td>\n",
       "      <td>0.083333</td>\n",
       "      <td>0.000000</td>\n",
       "      <td>0.083333</td>\n",
       "      <td>1</td>\n",
       "      <td>1</td>\n",
       "      <td>7500.0</td>\n",
       "      <td>0.000000</td>\n",
       "      <td>NaN</td>\n",
       "      <td>0.000000</td>\n",
       "      <td>12</td>\n",
       "    </tr>\n",
       "    <tr>\n",
       "      <th>4</th>\n",
       "      <td>C10005</td>\n",
       "      <td>817.714335</td>\n",
       "      <td>1.000000</td>\n",
       "      <td>16.00</td>\n",
       "      <td>16.00</td>\n",
       "      <td>0.00</td>\n",
       "      <td>0.000000</td>\n",
       "      <td>0.083333</td>\n",
       "      <td>0.083333</td>\n",
       "      <td>0.000000</td>\n",
       "      <td>0.000000</td>\n",
       "      <td>0</td>\n",
       "      <td>1</td>\n",
       "      <td>1200.0</td>\n",
       "      <td>678.334763</td>\n",
       "      <td>244.791237</td>\n",
       "      <td>0.000000</td>\n",
       "      <td>12</td>\n",
       "    </tr>\n",
       "    <tr>\n",
       "      <th>...</th>\n",
       "      <td>...</td>\n",
       "      <td>...</td>\n",
       "      <td>...</td>\n",
       "      <td>...</td>\n",
       "      <td>...</td>\n",
       "      <td>...</td>\n",
       "      <td>...</td>\n",
       "      <td>...</td>\n",
       "      <td>...</td>\n",
       "      <td>...</td>\n",
       "      <td>...</td>\n",
       "      <td>...</td>\n",
       "      <td>...</td>\n",
       "      <td>...</td>\n",
       "      <td>...</td>\n",
       "      <td>...</td>\n",
       "      <td>...</td>\n",
       "      <td>...</td>\n",
       "    </tr>\n",
       "    <tr>\n",
       "      <th>8945</th>\n",
       "      <td>C19186</td>\n",
       "      <td>28.493517</td>\n",
       "      <td>1.000000</td>\n",
       "      <td>291.12</td>\n",
       "      <td>0.00</td>\n",
       "      <td>291.12</td>\n",
       "      <td>0.000000</td>\n",
       "      <td>1.000000</td>\n",
       "      <td>0.000000</td>\n",
       "      <td>0.833333</td>\n",
       "      <td>0.000000</td>\n",
       "      <td>0</td>\n",
       "      <td>6</td>\n",
       "      <td>1000.0</td>\n",
       "      <td>325.594462</td>\n",
       "      <td>48.886365</td>\n",
       "      <td>0.500000</td>\n",
       "      <td>6</td>\n",
       "    </tr>\n",
       "    <tr>\n",
       "      <th>8946</th>\n",
       "      <td>C19187</td>\n",
       "      <td>19.183215</td>\n",
       "      <td>1.000000</td>\n",
       "      <td>300.00</td>\n",
       "      <td>0.00</td>\n",
       "      <td>300.00</td>\n",
       "      <td>0.000000</td>\n",
       "      <td>1.000000</td>\n",
       "      <td>0.000000</td>\n",
       "      <td>0.833333</td>\n",
       "      <td>0.000000</td>\n",
       "      <td>0</td>\n",
       "      <td>6</td>\n",
       "      <td>1000.0</td>\n",
       "      <td>275.861322</td>\n",
       "      <td>NaN</td>\n",
       "      <td>0.000000</td>\n",
       "      <td>6</td>\n",
       "    </tr>\n",
       "    <tr>\n",
       "      <th>8947</th>\n",
       "      <td>C19188</td>\n",
       "      <td>23.398673</td>\n",
       "      <td>0.833333</td>\n",
       "      <td>144.40</td>\n",
       "      <td>0.00</td>\n",
       "      <td>144.40</td>\n",
       "      <td>0.000000</td>\n",
       "      <td>0.833333</td>\n",
       "      <td>0.000000</td>\n",
       "      <td>0.666667</td>\n",
       "      <td>0.000000</td>\n",
       "      <td>0</td>\n",
       "      <td>5</td>\n",
       "      <td>1000.0</td>\n",
       "      <td>81.270775</td>\n",
       "      <td>82.418369</td>\n",
       "      <td>0.250000</td>\n",
       "      <td>6</td>\n",
       "    </tr>\n",
       "    <tr>\n",
       "      <th>8948</th>\n",
       "      <td>C19189</td>\n",
       "      <td>13.457564</td>\n",
       "      <td>0.833333</td>\n",
       "      <td>0.00</td>\n",
       "      <td>0.00</td>\n",
       "      <td>0.00</td>\n",
       "      <td>36.558778</td>\n",
       "      <td>0.000000</td>\n",
       "      <td>0.000000</td>\n",
       "      <td>0.000000</td>\n",
       "      <td>0.166667</td>\n",
       "      <td>2</td>\n",
       "      <td>0</td>\n",
       "      <td>500.0</td>\n",
       "      <td>52.549959</td>\n",
       "      <td>55.755628</td>\n",
       "      <td>0.250000</td>\n",
       "      <td>6</td>\n",
       "    </tr>\n",
       "    <tr>\n",
       "      <th>8949</th>\n",
       "      <td>C19190</td>\n",
       "      <td>372.708075</td>\n",
       "      <td>0.666667</td>\n",
       "      <td>1093.25</td>\n",
       "      <td>1093.25</td>\n",
       "      <td>0.00</td>\n",
       "      <td>127.040008</td>\n",
       "      <td>0.666667</td>\n",
       "      <td>0.666667</td>\n",
       "      <td>0.000000</td>\n",
       "      <td>0.333333</td>\n",
       "      <td>2</td>\n",
       "      <td>23</td>\n",
       "      <td>1200.0</td>\n",
       "      <td>63.165404</td>\n",
       "      <td>88.288956</td>\n",
       "      <td>0.000000</td>\n",
       "      <td>6</td>\n",
       "    </tr>\n",
       "  </tbody>\n",
       "</table>\n",
       "<p>8950 rows × 18 columns</p>\n",
       "</div>"
      ],
      "text/plain": [
       "     CUST_ID      BALANCE  BALANCE_FREQUENCY  PURCHASES  ONEOFF_PURCHASES  \\\n",
       "0     C10001    40.900749           0.818182      95.40              0.00   \n",
       "1     C10002  3202.467416           0.909091       0.00              0.00   \n",
       "2     C10003  2495.148862           1.000000     773.17            773.17   \n",
       "3     C10004  1666.670542           0.636364    1499.00           1499.00   \n",
       "4     C10005   817.714335           1.000000      16.00             16.00   \n",
       "...      ...          ...                ...        ...               ...   \n",
       "8945  C19186    28.493517           1.000000     291.12              0.00   \n",
       "8946  C19187    19.183215           1.000000     300.00              0.00   \n",
       "8947  C19188    23.398673           0.833333     144.40              0.00   \n",
       "8948  C19189    13.457564           0.833333       0.00              0.00   \n",
       "8949  C19190   372.708075           0.666667    1093.25           1093.25   \n",
       "\n",
       "      INSTALLMENTS_PURCHASES  CASH_ADVANCE  PURCHASES_FREQUENCY  \\\n",
       "0                      95.40      0.000000             0.166667   \n",
       "1                       0.00   6442.945483             0.000000   \n",
       "2                       0.00      0.000000             1.000000   \n",
       "3                       0.00    205.788017             0.083333   \n",
       "4                       0.00      0.000000             0.083333   \n",
       "...                      ...           ...                  ...   \n",
       "8945                  291.12      0.000000             1.000000   \n",
       "8946                  300.00      0.000000             1.000000   \n",
       "8947                  144.40      0.000000             0.833333   \n",
       "8948                    0.00     36.558778             0.000000   \n",
       "8949                    0.00    127.040008             0.666667   \n",
       "\n",
       "      ONEOFF_PURCHASES_FREQUENCY  PURCHASES_INSTALLMENTS_FREQUENCY  \\\n",
       "0                       0.000000                          0.083333   \n",
       "1                       0.000000                          0.000000   \n",
       "2                       1.000000                          0.000000   \n",
       "3                       0.083333                          0.000000   \n",
       "4                       0.083333                          0.000000   \n",
       "...                          ...                               ...   \n",
       "8945                    0.000000                          0.833333   \n",
       "8946                    0.000000                          0.833333   \n",
       "8947                    0.000000                          0.666667   \n",
       "8948                    0.000000                          0.000000   \n",
       "8949                    0.666667                          0.000000   \n",
       "\n",
       "      CASH_ADVANCE_FREQUENCY  CASH_ADVANCE_TRX  PURCHASES_TRX  CREDIT_LIMIT  \\\n",
       "0                   0.000000                 0              2        1000.0   \n",
       "1                   0.250000                 4              0        7000.0   \n",
       "2                   0.000000                 0             12        7500.0   \n",
       "3                   0.083333                 1              1        7500.0   \n",
       "4                   0.000000                 0              1        1200.0   \n",
       "...                      ...               ...            ...           ...   \n",
       "8945                0.000000                 0              6        1000.0   \n",
       "8946                0.000000                 0              6        1000.0   \n",
       "8947                0.000000                 0              5        1000.0   \n",
       "8948                0.166667                 2              0         500.0   \n",
       "8949                0.333333                 2             23        1200.0   \n",
       "\n",
       "         PAYMENTS  MINIMUM_PAYMENTS  PRC_FULL_PAYMENT  TENURE  \n",
       "0      201.802084        139.509787          0.000000      12  \n",
       "1     4103.032597       1072.340217          0.222222      12  \n",
       "2      622.066742        627.284787          0.000000      12  \n",
       "3        0.000000               NaN          0.000000      12  \n",
       "4      678.334763        244.791237          0.000000      12  \n",
       "...           ...               ...               ...     ...  \n",
       "8945   325.594462         48.886365          0.500000       6  \n",
       "8946   275.861322               NaN          0.000000       6  \n",
       "8947    81.270775         82.418369          0.250000       6  \n",
       "8948    52.549959         55.755628          0.250000       6  \n",
       "8949    63.165404         88.288956          0.000000       6  \n",
       "\n",
       "[8950 rows x 18 columns]"
      ]
     },
     "execution_count": 2,
     "metadata": {},
     "output_type": "execute_result"
    }
   ],
   "source": [
    "#load dataset\n",
    "df=pd.read_csv(\"credit_card.csv\")\n",
    "df"
   ]
  },
  {
   "cell_type": "markdown",
   "id": "50b8dbfa",
   "metadata": {
    "id": "WJW-olPm4AEK",
    "papermill": {
     "duration": 0.027299,
     "end_time": "2021-08-19T08:41:23.978353",
     "exception": false,
     "start_time": "2021-08-19T08:41:23.951054",
     "status": "completed"
    },
    "tags": []
   },
   "source": [
    "# primary analysis\n",
    "* CUSTID : Identification of Credit Card holder (Categorical)\n",
    "* BALANCE : Balance amount left in their account to make purchases\n",
    "* BALANCEFREQUENCY : How frequently the Balance is updated, score between 0 and 1 (1 = frequently updated, 0 = not frequently updated)\n",
    "* PURCHASES : Amount of purchases made from account\n",
    "* ONEOFFPURCHASES : Maximum purchase amount done in one-go\n",
    "* INSTALLMENTSPURCHASES : Amount of purchase done in installment\n",
    "* CASHADVANCE : Cash in advance given by the user\n",
    "* PURCHASESFREQUENCY : How frequently the Purchases are being made, score between 0 and 1 (1 = frequently purchased, 0 = not frequently purchased)\n",
    "* ONEOFFPURCHASESFREQUENCY : How frequently Purchases are happening in one-go (1 = frequently purchased, 0 = not frequently purchased)\n",
    "* PURCHASESINSTALLMENTSFREQUENCY : How frequently purchases in installments are being done (1 = frequently done, 0 = not frequently done)\n",
    "* CASHADVANCEFREQUENCY : How frequently the cash in advance being paid\n",
    "* CASHADVANCETRX : Number of Transactions made with \"Cash in Advanced\"\n",
    "* PURCHASESTRX : Numbe of purchase transactions made\n",
    "* CREDITLIMIT : Limit of Credit Card for user\n",
    "* PAYMENTS : Amount of Payment done by user\n",
    "* MINIMUM_PAYMENTS : Minimum amount of payments made by user\n",
    "* PRCFULLPAYMENT : Percent of full payment paid by user\n",
    "* TENURE : Tenure of credit card service for user\n"
   ]
  },
  {
   "cell_type": "code",
   "execution_count": 3,
   "id": "ac80b928",
   "metadata": {},
   "outputs": [
    {
     "name": "stdout",
     "output_type": "stream",
     "text": [
      "<class 'pandas.core.frame.DataFrame'>\n",
      "RangeIndex: 8950 entries, 0 to 8949\n",
      "Data columns (total 18 columns):\n",
      " #   Column                            Non-Null Count  Dtype  \n",
      "---  ------                            --------------  -----  \n",
      " 0   CUST_ID                           8950 non-null   object \n",
      " 1   BALANCE                           8950 non-null   float64\n",
      " 2   BALANCE_FREQUENCY                 8950 non-null   float64\n",
      " 3   PURCHASES                         8950 non-null   float64\n",
      " 4   ONEOFF_PURCHASES                  8950 non-null   float64\n",
      " 5   INSTALLMENTS_PURCHASES            8950 non-null   float64\n",
      " 6   CASH_ADVANCE                      8950 non-null   float64\n",
      " 7   PURCHASES_FREQUENCY               8950 non-null   float64\n",
      " 8   ONEOFF_PURCHASES_FREQUENCY        8950 non-null   float64\n",
      " 9   PURCHASES_INSTALLMENTS_FREQUENCY  8950 non-null   float64\n",
      " 10  CASH_ADVANCE_FREQUENCY            8950 non-null   float64\n",
      " 11  CASH_ADVANCE_TRX                  8950 non-null   int64  \n",
      " 12  PURCHASES_TRX                     8950 non-null   int64  \n",
      " 13  CREDIT_LIMIT                      8949 non-null   float64\n",
      " 14  PAYMENTS                          8950 non-null   float64\n",
      " 15  MINIMUM_PAYMENTS                  8637 non-null   float64\n",
      " 16  PRC_FULL_PAYMENT                  8950 non-null   float64\n",
      " 17  TENURE                            8950 non-null   int64  \n",
      "dtypes: float64(14), int64(3), object(1)\n",
      "memory usage: 1.2+ MB\n"
     ]
    }
   ],
   "source": [
    "df.info()"
   ]
  },
  {
   "cell_type": "markdown",
   "id": "a5a62fc3",
   "metadata": {
    "id": "--9AlPGtgtDl",
    "papermill": {
     "duration": 0.027624,
     "end_time": "2021-08-19T08:41:25.726844",
     "exception": false,
     "start_time": "2021-08-19T08:41:25.699220",
     "status": "completed"
    },
    "tags": []
   },
   "source": [
    "# Q2. EDA"
   ]
  },
  {
   "cell_type": "markdown",
   "id": "87890639",
   "metadata": {},
   "source": [
    "## a. Missing Value Analysis\n"
   ]
  },
  {
   "cell_type": "code",
   "execution_count": 4,
   "id": "aaf3f1f6",
   "metadata": {
    "execution": {
     "iopub.execute_input": "2021-08-19T08:41:25.787291Z",
     "iopub.status.busy": "2021-08-19T08:41:25.786644Z",
     "iopub.status.idle": "2021-08-19T08:41:25.792760Z",
     "shell.execute_reply": "2021-08-19T08:41:25.793197Z",
     "shell.execute_reply.started": "2021-08-19T08:37:08.498759Z"
    },
    "id": "x9jsr5q3VUC1",
    "outputId": "b9ec4604-a5e9-4a4d-876d-361db5931d82",
    "papermill": {
     "duration": 0.039126,
     "end_time": "2021-08-19T08:41:25.793356",
     "exception": false,
     "start_time": "2021-08-19T08:41:25.754230",
     "status": "completed"
    },
    "tags": []
   },
   "outputs": [
    {
     "data": {
      "text/plain": [
       "CUST_ID                               0\n",
       "BALANCE                               0\n",
       "BALANCE_FREQUENCY                     0\n",
       "PURCHASES                             0\n",
       "ONEOFF_PURCHASES                      0\n",
       "INSTALLMENTS_PURCHASES                0\n",
       "CASH_ADVANCE                          0\n",
       "PURCHASES_FREQUENCY                   0\n",
       "ONEOFF_PURCHASES_FREQUENCY            0\n",
       "PURCHASES_INSTALLMENTS_FREQUENCY      0\n",
       "CASH_ADVANCE_FREQUENCY                0\n",
       "CASH_ADVANCE_TRX                      0\n",
       "PURCHASES_TRX                         0\n",
       "CREDIT_LIMIT                          1\n",
       "PAYMENTS                              0\n",
       "MINIMUM_PAYMENTS                    313\n",
       "PRC_FULL_PAYMENT                      0\n",
       "TENURE                                0\n",
       "dtype: int64"
      ]
     },
     "execution_count": 4,
     "metadata": {},
     "output_type": "execute_result"
    }
   ],
   "source": [
    "df.isnull().sum()"
   ]
  },
  {
   "cell_type": "code",
   "execution_count": 5,
   "id": "8ce6eabf",
   "metadata": {
    "execution": {
     "iopub.execute_input": "2021-08-19T08:41:25.850253Z",
     "iopub.status.busy": "2021-08-19T08:41:25.849670Z",
     "iopub.status.idle": "2021-08-19T08:41:25.861901Z",
     "shell.execute_reply": "2021-08-19T08:41:25.861336Z",
     "shell.execute_reply.started": "2021-08-19T08:37:08.512783Z"
    },
    "id": "UzLQdCe9ZmZC",
    "papermill": {
     "duration": 0.041654,
     "end_time": "2021-08-19T08:41:25.862061",
     "exception": false,
     "start_time": "2021-08-19T08:41:25.820407",
     "status": "completed"
    },
    "tags": []
   },
   "outputs": [],
   "source": [
    "df1 = df.drop('CUST_ID', axis = 1)\n",
    "df1.fillna(method ='bfill', inplace = True)"
   ]
  },
  {
   "cell_type": "markdown",
   "id": "a3769e24",
   "metadata": {},
   "source": [
    "## Outlier Treatment using z-score formula"
   ]
  },
  {
   "cell_type": "code",
   "execution_count": 6,
   "id": "1e291355",
   "metadata": {
    "execution": {
     "iopub.execute_input": "2021-08-19T08:41:25.928865Z",
     "iopub.status.busy": "2021-08-19T08:41:25.928203Z",
     "iopub.status.idle": "2021-08-19T08:41:26.011676Z",
     "shell.execute_reply": "2021-08-19T08:41:26.012229Z",
     "shell.execute_reply.started": "2021-08-19T08:37:08.534421Z"
    },
    "id": "9E4S_wCFNRGi",
    "outputId": "573df6f0-3e93-4a06-b2b2-d74a77786fa3",
    "papermill": {
     "duration": 0.122599,
     "end_time": "2021-08-19T08:41:26.012389",
     "exception": false,
     "start_time": "2021-08-19T08:41:25.889790",
     "status": "completed"
    },
    "tags": []
   },
   "outputs": [
    {
     "name": "stdout",
     "output_type": "stream",
     "text": [
      " outlier in  BALANCE is 10 %\n",
      " outlier in  BALANCE_FREQUENCY is 75 %\n",
      " outlier in  PURCHASES is 27 %\n",
      " outlier in  ONEOFF_PURCHASES is 53 %\n",
      " outlier in  INSTALLMENTS_PURCHASES is 48 %\n",
      " outlier in  CASH_ADVANCE is 56 %\n",
      " outlier in  PURCHASES_FREQUENCY is 47 %\n",
      " outlier in  ONEOFF_PURCHASES_FREQUENCY is 53 %\n",
      " outlier in  PURCHASES_INSTALLMENTS_FREQUENCY is 58 %\n",
      " outlier in  CASH_ADVANCE_FREQUENCY is 57 %\n",
      " outlier in  CASH_ADVANCE_TRX is 56 %\n",
      " outlier in  PURCHASES_TRX is 27 %\n",
      " outlier in  CREDIT_LIMIT is 14 %\n",
      " outlier in  PAYMENTS is 10 %\n",
      " outlier in  MINIMUM_PAYMENTS is 10 %\n",
      " outlier in  PRC_FULL_PAYMENT is 71 %\n",
      " outlier in  TENURE is 91 %\n"
     ]
    }
   ],
   "source": [
    "for i in df1.select_dtypes(include=['float64','int64']).columns:\n",
    "    max_threshold=df1[i].quantile(0.95)\n",
    "    min_threshold=df1[i].quantile(0.05)\n",
    "    df1_no_outlier=df1[(df1[i] < max_threshold) & (df1[i] > min_threshold)].shape\n",
    "    print(\" outlier in \",i,\"is\" ,int(((df1.shape[0]-df1_no_outlier[0])/df1.shape[0])*100),\"%\")"
   ]
  },
  {
   "cell_type": "code",
   "execution_count": 7,
   "id": "646ca546",
   "metadata": {
    "execution": {
     "iopub.execute_input": "2021-08-19T08:41:26.076230Z",
     "iopub.status.busy": "2021-08-19T08:41:26.074808Z",
     "iopub.status.idle": "2021-08-19T08:41:26.086942Z",
     "shell.execute_reply": "2021-08-19T08:41:26.087408Z",
     "shell.execute_reply.started": "2021-08-19T08:37:08.649139Z"
    },
    "id": "7hxf98gQNXor",
    "papermill": {
     "duration": 0.047346,
     "end_time": "2021-08-19T08:41:26.087573",
     "exception": false,
     "start_time": "2021-08-19T08:41:26.040227",
     "status": "completed"
    },
    "tags": []
   },
   "outputs": [],
   "source": [
    "max_threshold_BALANCE=df1[\"BALANCE\"].quantile(0.95)\n",
    "min_threshold_BALANCE=df1[\"BALANCE\"].quantile(0.05)\n",
    "max_threshold_CREDIT_LIMIT=df1[\"CREDIT_LIMIT\"].quantile(0.95)\n",
    "min_threshold_CREDIT_LIMIT=df1[\"CREDIT_LIMIT\"].quantile(0.05)\n",
    "max_threshold_PAYMENTS=df1[\"PAYMENTS\"].quantile(0.95)\n",
    "min_threshold_PAYMENTS=df1[\"PAYMENTS\"].quantile(0.05)\n",
    "df1_no_outlier=df1[(df1[\"CREDIT_LIMIT\"] < max_threshold_CREDIT_LIMIT) & (df1[\"CREDIT_LIMIT\"] > min_threshold_CREDIT_LIMIT) & (df1[\"BALANCE\"] < max_threshold_BALANCE) & (df1[\"BALANCE\"] > min_threshold_BALANCE) &  (df1[\"PAYMENTS\"] < max_threshold_PAYMENTS) & (df1[\"PAYMENTS\"] > min_threshold_PAYMENTS)]"
   ]
  },
  {
   "cell_type": "code",
   "execution_count": 8,
   "id": "0817647a",
   "metadata": {
    "execution": {
     "iopub.execute_input": "2021-08-19T08:41:26.150624Z",
     "iopub.status.busy": "2021-08-19T08:41:26.149989Z",
     "iopub.status.idle": "2021-08-19T08:41:26.172504Z",
     "shell.execute_reply": "2021-08-19T08:41:26.171913Z",
     "shell.execute_reply.started": "2021-08-19T08:37:08.670228Z"
    },
    "id": "hqqqYDoYhXpc",
    "outputId": "3eba3666-591e-4bbf-84c1-154fb30728f5",
    "papermill": {
     "duration": 0.056575,
     "end_time": "2021-08-19T08:41:26.172650",
     "exception": false,
     "start_time": "2021-08-19T08:41:26.116075",
     "status": "completed"
    },
    "tags": []
   },
   "outputs": [
    {
     "data": {
      "text/html": [
       "<div>\n",
       "<style scoped>\n",
       "    .dataframe tbody tr th:only-of-type {\n",
       "        vertical-align: middle;\n",
       "    }\n",
       "\n",
       "    .dataframe tbody tr th {\n",
       "        vertical-align: top;\n",
       "    }\n",
       "\n",
       "    .dataframe thead th {\n",
       "        text-align: right;\n",
       "    }\n",
       "</style>\n",
       "<table border=\"1\" class=\"dataframe\">\n",
       "  <thead>\n",
       "    <tr style=\"text-align: right;\">\n",
       "      <th></th>\n",
       "      <th>0</th>\n",
       "      <th>1</th>\n",
       "      <th>2</th>\n",
       "      <th>3</th>\n",
       "      <th>4</th>\n",
       "      <th>5</th>\n",
       "      <th>6</th>\n",
       "      <th>7</th>\n",
       "      <th>8</th>\n",
       "      <th>9</th>\n",
       "      <th>10</th>\n",
       "      <th>11</th>\n",
       "      <th>12</th>\n",
       "      <th>13</th>\n",
       "      <th>14</th>\n",
       "      <th>15</th>\n",
       "      <th>16</th>\n",
       "    </tr>\n",
       "  </thead>\n",
       "  <tbody>\n",
       "    <tr>\n",
       "      <th>0</th>\n",
       "      <td>0.293876</td>\n",
       "      <td>0.000083</td>\n",
       "      <td>0.000000</td>\n",
       "      <td>0.000000</td>\n",
       "      <td>0.000000</td>\n",
       "      <td>0.59124</td>\n",
       "      <td>0.000000</td>\n",
       "      <td>0.000000</td>\n",
       "      <td>0.000000</td>\n",
       "      <td>0.000023</td>\n",
       "      <td>0.000367</td>\n",
       "      <td>0.000000</td>\n",
       "      <td>0.642358</td>\n",
       "      <td>0.376516</td>\n",
       "      <td>0.098404</td>\n",
       "      <td>0.00002</td>\n",
       "      <td>0.001101</td>\n",
       "    </tr>\n",
       "    <tr>\n",
       "      <th>1</th>\n",
       "      <td>0.310798</td>\n",
       "      <td>0.000125</td>\n",
       "      <td>0.096307</td>\n",
       "      <td>0.096307</td>\n",
       "      <td>0.000000</td>\n",
       "      <td>0.00000</td>\n",
       "      <td>0.000125</td>\n",
       "      <td>0.000125</td>\n",
       "      <td>0.000000</td>\n",
       "      <td>0.000000</td>\n",
       "      <td>0.000000</td>\n",
       "      <td>0.001495</td>\n",
       "      <td>0.934206</td>\n",
       "      <td>0.077485</td>\n",
       "      <td>0.078135</td>\n",
       "      <td>0.00000</td>\n",
       "      <td>0.001495</td>\n",
       "    </tr>\n",
       "    <tr>\n",
       "      <th>2</th>\n",
       "      <td>0.504284</td>\n",
       "      <td>0.000617</td>\n",
       "      <td>0.009867</td>\n",
       "      <td>0.009867</td>\n",
       "      <td>0.000000</td>\n",
       "      <td>0.00000</td>\n",
       "      <td>0.000051</td>\n",
       "      <td>0.000051</td>\n",
       "      <td>0.000000</td>\n",
       "      <td>0.000000</td>\n",
       "      <td>0.000000</td>\n",
       "      <td>0.000617</td>\n",
       "      <td>0.740040</td>\n",
       "      <td>0.418329</td>\n",
       "      <td>0.150963</td>\n",
       "      <td>0.00000</td>\n",
       "      <td>0.007400</td>\n",
       "    </tr>\n",
       "    <tr>\n",
       "      <th>3</th>\n",
       "      <td>0.428658</td>\n",
       "      <td>0.000237</td>\n",
       "      <td>0.315788</td>\n",
       "      <td>0.000000</td>\n",
       "      <td>0.315788</td>\n",
       "      <td>0.00000</td>\n",
       "      <td>0.000158</td>\n",
       "      <td>0.000000</td>\n",
       "      <td>0.000138</td>\n",
       "      <td>0.000000</td>\n",
       "      <td>0.000000</td>\n",
       "      <td>0.001895</td>\n",
       "      <td>0.426330</td>\n",
       "      <td>0.331604</td>\n",
       "      <td>0.570156</td>\n",
       "      <td>0.00000</td>\n",
       "      <td>0.002842</td>\n",
       "    </tr>\n",
       "    <tr>\n",
       "      <th>4</th>\n",
       "      <td>0.584314</td>\n",
       "      <td>0.000320</td>\n",
       "      <td>0.139762</td>\n",
       "      <td>0.000000</td>\n",
       "      <td>0.139762</td>\n",
       "      <td>0.00000</td>\n",
       "      <td>0.000320</td>\n",
       "      <td>0.000000</td>\n",
       "      <td>0.000320</td>\n",
       "      <td>0.000000</td>\n",
       "      <td>0.000000</td>\n",
       "      <td>0.003845</td>\n",
       "      <td>0.736940</td>\n",
       "      <td>0.217578</td>\n",
       "      <td>0.170468</td>\n",
       "      <td>0.00000</td>\n",
       "      <td>0.003845</td>\n",
       "    </tr>\n",
       "  </tbody>\n",
       "</table>\n",
       "</div>"
      ],
      "text/plain": [
       "         0         1         2         3         4        5         6   \\\n",
       "0  0.293876  0.000083  0.000000  0.000000  0.000000  0.59124  0.000000   \n",
       "1  0.310798  0.000125  0.096307  0.096307  0.000000  0.00000  0.000125   \n",
       "2  0.504284  0.000617  0.009867  0.009867  0.000000  0.00000  0.000051   \n",
       "3  0.428658  0.000237  0.315788  0.000000  0.315788  0.00000  0.000158   \n",
       "4  0.584314  0.000320  0.139762  0.000000  0.139762  0.00000  0.000320   \n",
       "\n",
       "         7         8         9         10        11        12        13  \\\n",
       "0  0.000000  0.000000  0.000023  0.000367  0.000000  0.642358  0.376516   \n",
       "1  0.000125  0.000000  0.000000  0.000000  0.001495  0.934206  0.077485   \n",
       "2  0.000051  0.000000  0.000000  0.000000  0.000617  0.740040  0.418329   \n",
       "3  0.000000  0.000138  0.000000  0.000000  0.001895  0.426330  0.331604   \n",
       "4  0.000000  0.000320  0.000000  0.000000  0.003845  0.736940  0.217578   \n",
       "\n",
       "         14       15        16  \n",
       "0  0.098404  0.00002  0.001101  \n",
       "1  0.078135  0.00000  0.001495  \n",
       "2  0.150963  0.00000  0.007400  \n",
       "3  0.570156  0.00000  0.002842  \n",
       "4  0.170468  0.00000  0.003845  "
      ]
     },
     "execution_count": 8,
     "metadata": {},
     "output_type": "execute_result"
    }
   ],
   "source": [
    "normalized_df = pd.DataFrame(normalize(df1_no_outlier))\n",
    "normalized_df.head()"
   ]
  },
  {
   "cell_type": "markdown",
   "id": "e135ac12",
   "metadata": {},
   "source": [
    "## c. Deal with correlated variables"
   ]
  },
  {
   "cell_type": "code",
   "execution_count": 9,
   "id": "03c93608",
   "metadata": {
    "execution": {
     "iopub.execute_input": "2021-08-19T08:41:26.249521Z",
     "iopub.status.busy": "2021-08-19T08:41:26.248900Z",
     "iopub.status.idle": "2021-08-19T08:41:28.083523Z",
     "shell.execute_reply": "2021-08-19T08:41:28.084003Z",
     "shell.execute_reply.started": "2021-08-19T08:37:08.707425Z"
    },
    "id": "WQX1f8U2RyG6",
    "outputId": "10733237-734e-4efd-ecd0-22bf3a831ee9",
    "papermill": {
     "duration": 1.883713,
     "end_time": "2021-08-19T08:41:28.084152",
     "exception": false,
     "start_time": "2021-08-19T08:41:26.200439",
     "status": "completed"
    },
    "tags": []
   },
   "outputs": [
    {
     "data": {
      "text/plain": [
       "<AxesSubplot:>"
      ]
     },
     "execution_count": 9,
     "metadata": {},
     "output_type": "execute_result"
    },
    {
     "data": {
      "image/png": "[encoded data removed]",
      "text/plain": [
       "<Figure size 1080x576 with 2 Axes>"
      ]
     },
     "metadata": {
      "needs_background": "light"
     },
     "output_type": "display_data"
    }
   ],
   "source": [
    "fig = plt.subplots(figsize=(15,8))\n",
    "sns.heatmap(normalized_df.corr(),\n",
    "            annot=True,\n",
    "            fmt=\"0.2f\",\n",
    "            cmap=\"inferno\")"
   ]
  },
  {
   "cell_type": "markdown",
   "id": "3ca28981",
   "metadata": {
    "id": "52RiMQCsh4B6",
    "papermill": {
     "duration": 0.031364,
     "end_time": "2021-08-19T08:41:28.149108",
     "exception": false,
     "start_time": "2021-08-19T08:41:28.117744",
     "status": "completed"
    },
    "tags": []
   },
   "source": [
    "# Q3. PCA"
   ]
  },
  {
   "cell_type": "code",
   "execution_count": 10,
   "id": "b83a15a2",
   "metadata": {
    "execution": {
     "iopub.execute_input": "2021-08-19T08:41:28.219652Z",
     "iopub.status.busy": "2021-08-19T08:41:28.219011Z",
     "iopub.status.idle": "2021-08-19T08:41:28.392408Z",
     "shell.execute_reply": "2021-08-19T08:41:28.393024Z",
     "shell.execute_reply.started": "2021-08-19T08:37:10.896081Z"
    },
    "id": "XNaMEISbhff8",
    "papermill": {
     "duration": 0.212376,
     "end_time": "2021-08-19T08:41:28.393220",
     "exception": false,
     "start_time": "2021-08-19T08:41:28.180844",
     "status": "completed"
    },
    "tags": []
   },
   "outputs": [],
   "source": [
    "pca = PCA() \n",
    "pcadf = pca.fit_transform(normalized_df) \n",
    "pcadf = pd.DataFrame(pcadf) "
   ]
  },
  {
   "cell_type": "code",
   "execution_count": 11,
   "id": "4145eb10",
   "metadata": {
    "execution": {
     "iopub.execute_input": "2021-08-19T08:41:28.463380Z",
     "iopub.status.busy": "2021-08-19T08:41:28.462813Z",
     "iopub.status.idle": "2021-08-19T08:41:28.658782Z",
     "shell.execute_reply": "2021-08-19T08:41:28.658273Z",
     "shell.execute_reply.started": "2021-08-19T08:37:11.109737Z"
    },
    "id": "IEXhgmXlvb29",
    "outputId": "6835a1ee-31ae-42b9-d753-ae6cc523c502",
    "papermill": {
     "duration": 0.230905,
     "end_time": "2021-08-19T08:41:28.658915",
     "exception": false,
     "start_time": "2021-08-19T08:41:28.428010",
     "status": "completed"
    },
    "tags": []
   },
   "outputs": [
    {
     "data": {
      "image/png": "[encoded data removed]",
      "text/plain": [
       "<Figure size 864x432 with 1 Axes>"
      ]
     },
     "metadata": {
      "needs_background": "light"
     },
     "output_type": "display_data"
    }
   ],
   "source": [
    "plt.subplots(figsize=(12,6))\n",
    "plt.plot(pca.explained_variance_ratio_.cumsum())\n",
    "plt.xticks(np.arange(0,16,1));"
   ]
  },
  {
   "cell_type": "markdown",
   "id": "1774385f",
   "metadata": {
    "id": "uuzRPPsVucXX",
    "papermill": {
     "duration": 0.033477,
     "end_time": "2021-08-19T08:41:28.725825",
     "exception": false,
     "start_time": "2021-08-19T08:41:28.692348",
     "status": "completed"
    },
    "tags": []
   },
   "source": [
    "### Choose n_components as 5 (95% variance)"
   ]
  },
  {
   "cell_type": "code",
   "execution_count": 12,
   "id": "6f066cd9",
   "metadata": {
    "execution": {
     "iopub.execute_input": "2021-08-19T08:41:28.796374Z",
     "iopub.status.busy": "2021-08-19T08:41:28.795409Z",
     "iopub.status.idle": "2021-08-19T08:41:28.845827Z",
     "shell.execute_reply": "2021-08-19T08:41:28.846562Z",
     "shell.execute_reply.started": "2021-08-19T08:37:11.339844Z"
    },
    "id": "6Cf9DorAqfZg",
    "outputId": "c1ffe65b-a82b-4516-948b-8d9b41322fed",
    "papermill": {
     "duration": 0.0874,
     "end_time": "2021-08-19T08:41:28.846851",
     "exception": false,
     "start_time": "2021-08-19T08:41:28.759451",
     "status": "completed"
    },
    "tags": []
   },
   "outputs": [
    {
     "data": {
      "text/html": [
       "<div>\n",
       "<style scoped>\n",
       "    .dataframe tbody tr th:only-of-type {\n",
       "        vertical-align: middle;\n",
       "    }\n",
       "\n",
       "    .dataframe tbody tr th {\n",
       "        vertical-align: top;\n",
       "    }\n",
       "\n",
       "    .dataframe thead th {\n",
       "        text-align: right;\n",
       "    }\n",
       "</style>\n",
       "<table border=\"1\" class=\"dataframe\">\n",
       "  <thead>\n",
       "    <tr style=\"text-align: right;\">\n",
       "      <th></th>\n",
       "      <th>PC1</th>\n",
       "      <th>PC2</th>\n",
       "      <th>PC3</th>\n",
       "      <th>PC4</th>\n",
       "      <th>PC5</th>\n",
       "    </tr>\n",
       "  </thead>\n",
       "  <tbody>\n",
       "    <tr>\n",
       "      <th>0</th>\n",
       "      <td>0.346585</td>\n",
       "      <td>-0.032200</td>\n",
       "      <td>0.380624</td>\n",
       "      <td>-0.035642</td>\n",
       "      <td>0.018816</td>\n",
       "    </tr>\n",
       "    <tr>\n",
       "      <th>1</th>\n",
       "      <td>-0.126068</td>\n",
       "      <td>-0.226061</td>\n",
       "      <td>-0.140287</td>\n",
       "      <td>-0.046067</td>\n",
       "      <td>-0.063836</td>\n",
       "    </tr>\n",
       "    <tr>\n",
       "      <th>2</th>\n",
       "      <td>0.162606</td>\n",
       "      <td>-0.023479</td>\n",
       "      <td>-0.123465</td>\n",
       "      <td>0.181440</td>\n",
       "      <td>-0.248537</td>\n",
       "    </tr>\n",
       "    <tr>\n",
       "      <th>3</th>\n",
       "      <td>0.259072</td>\n",
       "      <td>0.336400</td>\n",
       "      <td>-0.358673</td>\n",
       "      <td>0.224421</td>\n",
       "      <td>0.245234</td>\n",
       "    </tr>\n",
       "    <tr>\n",
       "      <th>4</th>\n",
       "      <td>0.154561</td>\n",
       "      <td>-0.057130</td>\n",
       "      <td>-0.273424</td>\n",
       "      <td>0.037757</td>\n",
       "      <td>-0.129358</td>\n",
       "    </tr>\n",
       "  </tbody>\n",
       "</table>\n",
       "</div>"
      ],
      "text/plain": [
       "        PC1       PC2       PC3       PC4       PC5\n",
       "0  0.346585 -0.032200  0.380624 -0.035642  0.018816\n",
       "1 -0.126068 -0.226061 -0.140287 -0.046067 -0.063836\n",
       "2  0.162606 -0.023479 -0.123465  0.181440 -0.248537\n",
       "3  0.259072  0.336400 -0.358673  0.224421  0.245234\n",
       "4  0.154561 -0.057130 -0.273424  0.037757 -0.129358"
      ]
     },
     "execution_count": 12,
     "metadata": {},
     "output_type": "execute_result"
    }
   ],
   "source": [
    "pca = PCA(n_components = 5) \n",
    "pcadf = pca.fit_transform(normalized_df) \n",
    "pcadf = pd.DataFrame(pcadf) \n",
    "pcadf.columns = ['PC1', 'PC2','PC3','PC4','PC5']   \n",
    "\n",
    "pcadf.head()"
   ]
  },
  {
   "cell_type": "code",
   "execution_count": 13,
   "id": "7577c50b",
   "metadata": {
    "execution": {
     "iopub.execute_input": "2021-08-19T08:41:28.962598Z",
     "iopub.status.busy": "2021-08-19T08:41:28.961978Z",
     "iopub.status.idle": "2021-08-19T08:41:28.964472Z",
     "shell.execute_reply": "2021-08-19T08:41:28.965048Z",
     "shell.execute_reply.started": "2021-08-19T08:37:11.409560Z"
    },
    "id": "RCK4pNCBvXh4",
    "outputId": "6892558b-21a5-45fb-e1ed-15b2bb5b9751",
    "papermill": {
     "duration": 0.059166,
     "end_time": "2021-08-19T08:41:28.965202",
     "exception": false,
     "start_time": "2021-08-19T08:41:28.906036",
     "status": "completed"
    },
    "tags": []
   },
   "outputs": [
    {
     "data": {
      "text/plain": [
       "array([0.35116079, 0.26244421, 0.17220986, 0.08400025, 0.07095013])"
      ]
     },
     "execution_count": 13,
     "metadata": {},
     "output_type": "execute_result"
    }
   ],
   "source": [
    "pca.explained_variance_ratio_"
   ]
  },
  {
   "cell_type": "code",
   "execution_count": 14,
   "id": "f945fc7e",
   "metadata": {
    "execution": {
     "iopub.execute_input": "2021-08-19T08:41:29.036864Z",
     "iopub.status.busy": "2021-08-19T08:41:29.036230Z",
     "iopub.status.idle": "2021-08-19T08:41:29.041130Z",
     "shell.execute_reply": "2021-08-19T08:41:29.041713Z",
     "shell.execute_reply.started": "2021-08-19T08:37:11.422917Z"
    },
    "id": "9iokWt-vhkHn",
    "outputId": "1a01df45-3af2-41cd-d0bc-5065b65c8956",
    "papermill": {
     "duration": 0.042214,
     "end_time": "2021-08-19T08:41:29.041880",
     "exception": false,
     "start_time": "2021-08-19T08:41:28.999666",
     "status": "completed"
    },
    "tags": []
   },
   "outputs": [
    {
     "data": {
      "text/plain": [
       "array([0.35116079, 0.613605  , 0.78581486, 0.8698151 , 0.94076523])"
      ]
     },
     "execution_count": 14,
     "metadata": {},
     "output_type": "execute_result"
    }
   ],
   "source": [
    "pca.explained_variance_ratio_.cumsum()"
   ]
  },
  {
   "cell_type": "markdown",
   "id": "6670388e",
   "metadata": {
    "id": "kK6CaJMQw0LT",
    "papermill": {
     "duration": 0.033823,
     "end_time": "2021-08-19T08:41:29.109537",
     "exception": false,
     "start_time": "2021-08-19T08:41:29.075714",
     "status": "completed"
    },
    "tags": []
   },
   "source": [
    "# Q4. Elbow method\n",
    "### Choosing k as number of clusters"
   ]
  },
  {
   "cell_type": "code",
   "execution_count": 15,
   "id": "bf9c1e88",
   "metadata": {
    "execution": {
     "iopub.execute_input": "2021-08-19T08:41:29.180421Z",
     "iopub.status.busy": "2021-08-19T08:41:29.179833Z",
     "iopub.status.idle": "2021-08-19T08:41:47.512516Z",
     "shell.execute_reply": "2021-08-19T08:41:47.513143Z",
     "shell.execute_reply.started": "2021-08-19T08:37:11.446914Z"
    },
    "id": "AdYlEN9mzh4p",
    "outputId": "65885130-8c6d-434a-b7c5-9533b6381459",
    "papermill": {
     "duration": 18.369479,
     "end_time": "2021-08-19T08:41:47.513338",
     "exception": false,
     "start_time": "2021-08-19T08:41:29.143859",
     "status": "completed"
    },
    "tags": []
   },
   "outputs": [
    {
     "data": {
      "image/png": "[encoded data removed]",
      "text/plain": [
       "<Figure size 1080x432 with 1 Axes>"
      ]
     },
     "metadata": {
      "needs_background": "light"
     },
     "output_type": "display_data"
    }
   ],
   "source": [
    "inertia = []\n",
    "K = range(1,10)\n",
    "for k in K:\n",
    "    kmeanModel = KMeans(n_clusters=k)\n",
    "    kmeanModel.fit(pcadf)\n",
    "    inertia.append(kmeanModel.inertia_)\n",
    "plt.figure(figsize=(15,6))\n",
    "plt.plot(K, inertia, 'bx-')\n",
    "plt.xlabel('Number of Clusters (k)')\n",
    "plt.ylabel('Inertia')\n",
    "plt.title('The Elbow Method \\n(PCA applied)')\n",
    "plt.show()"
   ]
  },
  {
   "cell_type": "markdown",
   "id": "328c060a",
   "metadata": {},
   "source": [
    "# Q5"
   ]
  },
  {
   "cell_type": "code",
   "execution_count": 16,
   "id": "bace2902",
   "metadata": {
    "execution": {
     "iopub.execute_input": "2021-08-19T08:41:47.611390Z",
     "iopub.status.busy": "2021-08-19T08:41:47.610524Z",
     "iopub.status.idle": "2021-08-19T08:41:47.612546Z",
     "shell.execute_reply": "2021-08-19T08:41:47.612018Z",
     "shell.execute_reply.started": "2021-08-19T08:37:24.397243Z"
    },
    "id": "ziUu6ktH056-",
    "papermill": {
     "duration": 0.054992,
     "end_time": "2021-08-19T08:41:47.612729",
     "exception": false,
     "start_time": "2021-08-19T08:41:47.557737",
     "status": "completed"
    },
    "tags": []
   },
   "outputs": [],
   "source": [
    "def evaluate(model, data, silhouette_visualizer=False):\n",
    "    if silhouette_visualizer:\n",
    "        from yellowbrick.cluster import SilhouetteVisualizer\n",
    "        visualizer = SilhouetteVisualizer(model, colors='yellowbrick')\n",
    "        visualizer.fit(data)\n",
    "    y = model.fit_predict(data)\n",
    "    SC = \"Silhouette Score\"+\" : \"+str(\"{:.2f}\".format(silhouette_score(data, y)))\n",
    "    print(SC)"
   ]
  },
  {
   "cell_type": "markdown",
   "id": "16ece623",
   "metadata": {
    "id": "NoX2pyPVmZR1",
    "papermill": {
     "duration": 0.043292,
     "end_time": "2021-08-19T08:41:47.699559",
     "exception": false,
     "start_time": "2021-08-19T08:41:47.656267",
     "status": "completed"
    },
    "tags": []
   },
   "source": [
    "### KMeans"
   ]
  },
  {
   "cell_type": "code",
   "execution_count": 17,
   "id": "c8d29cb6",
   "metadata": {
    "execution": {
     "iopub.execute_input": "2021-08-19T08:41:47.797740Z",
     "iopub.status.busy": "2021-08-19T08:41:47.796718Z",
     "iopub.status.idle": "2021-08-19T08:42:20.450716Z",
     "shell.execute_reply": "2021-08-19T08:42:20.451289Z",
     "shell.execute_reply.started": "2021-08-19T08:37:24.419215Z"
    },
    "id": "TfdG39zVYczt",
    "outputId": "c87ee861-51ef-49ab-ba48-a8fa8af1bc0a",
    "papermill": {
     "duration": 32.708442,
     "end_time": "2021-08-19T08:42:20.451479",
     "exception": false,
     "start_time": "2021-08-19T08:41:47.743037",
     "status": "completed"
    },
    "tags": []
   },
   "outputs": [
    {
     "name": "stdout",
     "output_type": "stream",
     "text": [
      "Number of Clusters : 2\n",
      "Silhouette Score : 0.33\n",
      "====================\n",
      "Number of Clusters : 3\n",
      "Silhouette Score : 0.34\n",
      "====================\n",
      "Number of Clusters : 4\n",
      "Silhouette Score : 0.37\n",
      "====================\n",
      "Number of Clusters : 5\n",
      "Silhouette Score : 0.38\n",
      "====================\n",
      "Number of Clusters : 6\n",
      "Silhouette Score : 0.40\n",
      "====================\n",
      "Number of Clusters : 7\n",
      "Silhouette Score : 0.34\n",
      "====================\n",
      "Number of Clusters : 8\n",
      "Silhouette Score : 0.34\n",
      "====================\n",
      "Number of Clusters : 9\n",
      "Silhouette Score : 0.34\n",
      "====================\n",
      "Number of Clusters : 10\n",
      "Silhouette Score : 0.34\n",
      "====================\n"
     ]
    }
   ],
   "source": [
    "for i in range(2,11):\n",
    "    kmeans = KMeans(n_clusters=i, random_state=42)\n",
    "    print(\"Number of Clusters : \" + str(i))\n",
    "    evaluate(kmeans, pcadf)\n",
    "    print(\"====================\")"
   ]
  },
  {
   "cell_type": "code",
   "execution_count": 18,
   "id": "4f678923",
   "metadata": {
    "execution": {
     "iopub.execute_input": "2021-08-19T08:42:20.599184Z",
     "iopub.status.busy": "2021-08-19T08:42:20.597644Z",
     "iopub.status.idle": "2021-08-19T08:42:26.485947Z",
     "shell.execute_reply": "2021-08-19T08:42:26.486442Z",
     "shell.execute_reply.started": "2021-08-19T08:37:47.374483Z"
    },
    "id": "TXymKPQR2gJe",
    "outputId": "339f1300-963a-4c67-a8a0-a27683870f08",
    "papermill": {
     "duration": 5.955386,
     "end_time": "2021-08-19T08:42:26.486631",
     "exception": false,
     "start_time": "2021-08-19T08:42:20.531245",
     "status": "completed"
    },
    "tags": []
   },
   "outputs": [
    {
     "name": "stdout",
     "output_type": "stream",
     "text": [
      "Silhouette Score : 0.38\n"
     ]
    },
    {
     "data": {
      "image/png": "[encoded data removed]",
      "text/plain": [
       "<Figure size 576x396 with 1 Axes>"
      ]
     },
     "metadata": {},
     "output_type": "display_data"
    }
   ],
   "source": [
    "kmeans = KMeans(n_clusters=5, random_state=42)\n",
    "evaluate(kmeans, pcadf, silhouette_visualizer=True)"
   ]
  },
  {
   "cell_type": "code",
   "execution_count": null,
   "id": "02176908",
   "metadata": {},
   "outputs": [],
   "source": []
  }
 ],
 "metadata": {
  "kernelspec": {
   "display_name": "Python 3 (ipykernel)",
   "language": "python",
   "name": "python3"
  },
  "language_info": {
   "codemirror_mode": {
    "name": "ipython",
    "version": 3
   },
   "file_extension": ".py",
   "mimetype": "text/x-python",
   "name": "python",
   "nbconvert_exporter": "python",
   "pygments_lexer": "ipython3",
   "version": "3.9.7"
  },
  "papermill": {
   "default_parameters": {},
   "duration": 234.466393,
   "end_time": "2021-08-19T08:45:10.626242",
   "environment_variables": {},
   "exception": null,
   "input_path": "__notebook__.ipynb",
   "output_path": "__notebook__.ipynb",
   "parameters": {},
   "start_time": "2021-08-19T08:41:16.159849",
   "version": "2.3.3"
  }
 },
 "nbformat": 4,
 "nbformat_minor": 5
}
